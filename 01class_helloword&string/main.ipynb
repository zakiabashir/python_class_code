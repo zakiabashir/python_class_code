{
 "cells": [
  {
   "cell_type": "code",
   "execution_count": 17,
   "metadata": {},
   "outputs": [
    {
     "name": "stdout",
     "output_type": "stream",
     "text": [
      "hello world\n",
      "zakia\n",
      "<class 'str'>\n",
      "2928456492848\n",
      "['__add__', '__class__', '__contains__', '__delattr__', '__dir__', '__doc__', '__eq__', '__format__', '__ge__', '__getattribute__', '__getitem__', '__getnewargs__', '__getstate__', '__gt__', '__hash__', '__init__', '__init_subclass__', '__iter__', '__le__', '__len__', '__lt__', '__mod__', '__mul__', '__ne__', '__new__', '__reduce__', '__reduce_ex__', '__repr__', '__rmod__', '__rmul__', '__setattr__', '__sizeof__', '__str__', '__subclasshook__', 'capitalize', 'casefold', 'center', 'count', 'encode', 'endswith', 'expandtabs', 'find', 'format', 'format_map', 'index', 'isalnum', 'isalpha', 'isascii', 'isdecimal', 'isdigit', 'isidentifier', 'islower', 'isnumeric', 'isprintable', 'isspace', 'istitle', 'isupper', 'join', 'ljust', 'lower', 'lstrip', 'maketrans', 'partition', 'removeprefix', 'removesuffix', 'replace', 'rfind', 'rindex', 'rjust', 'rpartition', 'rsplit', 'rstrip', 'split', 'splitlines', 'startswith', 'strip', 'swapcase', 'title', 'translate', 'upper', 'zfill']\n",
      "ZAKIA\n",
      "zakia\n",
      "Hy This Is A Line\n",
      "Hy this is a line\n",
      "Hy, what are you doing?\n",
      "This i am a zakia\n",
      "Hy this is a line\n"
     ]
    }
   ],
   "source": [
    "\"\"\"\" this is a jupyter document in wchich we are written python with markdown and outputs \"\"\"\n",
    "\n",
    "\"\"\"this is called doc string \n",
    "in which we are are leaved multiple comments\n",
    "in wchich we are explain our code \n",
    "in python we are declare variables jast as a name\n",
    "name=\"zakia\"\n",
    "\"\"\"\n",
    "name =\"zakia\"\n",
    "line =\"hy this is a line\"\n",
    "h = \"hy, what are you doing?\"\n",
    "line1 = \"this i am a zakia\"\n",
    "print(\"hello world\") #this is print hello world\n",
    "print(name) #this is print name\n",
    "print(type(name)) #type is for type checking\n",
    "print(id(name)) #id isused for id checking\n",
    "print(dir(name)) #this dir is used for directory checking\n",
    "\n",
    "\"\"\"\n",
    "string methods\n",
    "these are string methods which are used for string\n",
    "these are buid-in methods\n",
    "->upper()\n",
    "->lower()\n",
    "->title()\n",
    "->capitalize()\n",
    "\n",
    "\"\"\"\n",
    "print(name.upper()) #this is used for uppercase , every letter made capital\n",
    "print(name.lower()) #this is used for lowercase\n",
    "print(line.title()) #this is used for title case in title case , every first letter of every word make capital\n",
    "print(line.capitalize()) # this is used for only first letters capital\n",
    "print(h.capitalize())\n",
    "print(line1.capitalize())\n",
    "print(line.capitalize())\n",
    "\n"
   ]
  }
 ],
 "metadata": {
  "kernelspec": {
   "display_name": "Python 3",
   "language": "python",
   "name": "python3"
  },
  "language_info": {
   "codemirror_mode": {
    "name": "ipython",
    "version": 3
   },
   "file_extension": ".py",
   "mimetype": "text/x-python",
   "name": "python",
   "nbconvert_exporter": "python",
   "pygments_lexer": "ipython3",
   "version": "3.12.9"
  }
 },
 "nbformat": 4,
 "nbformat_minor": 2
}
